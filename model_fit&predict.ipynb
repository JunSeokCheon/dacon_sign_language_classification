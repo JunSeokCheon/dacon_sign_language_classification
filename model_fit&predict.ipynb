{
  "nbformat": 4,
  "nbformat_minor": 0,
  "metadata": {
    "colab": {
      "name": "model_fit&predict.ipynb",
      "provenance": [],
      "machine_shape": "hm",
      "collapsed_sections": [],
      "authorship_tag": "ABX9TyP0eg1/URw3K/sAHtvzl7xt",
      "include_colab_link": true
    },
    "kernelspec": {
      "name": "python3",
      "display_name": "Python 3"
    },
    "language_info": {
      "name": "python"
    },
    "accelerator": "GPU"
  },
  "cells": [
    {
      "cell_type": "markdown",
      "metadata": {
        "id": "view-in-github",
        "colab_type": "text"
      },
      "source": [
        "<a href=\"https://colab.research.google.com/github/JunSeokCheon/dacon_sign_language_classification/blob/master/model_fit%26predict.ipynb\" target=\"_parent\"><img src=\"https://colab.research.google.com/assets/colab-badge.svg\" alt=\"Open In Colab\"/></a>"
      ]
    },
    {
      "cell_type": "code",
      "execution_count": 1,
      "metadata": {
        "colab": {
          "base_uri": "https://localhost:8080/"
        },
        "id": "48wdmcjk-BsB",
        "outputId": "72d59b2a-f410-492e-c959-92b3b711bec6"
      },
      "outputs": [
        {
          "output_type": "stream",
          "name": "stdout",
          "text": [
            "Mounted at /content/drive\n"
          ]
        }
      ],
      "source": [
        "from google.colab import drive\n",
        "drive.mount('/content/drive')"
      ]
    },
    {
      "cell_type": "code",
      "source": [
        "cd /content/drive/MyDrive/kaggle_study/sign_Languague"
      ],
      "metadata": {
        "colab": {
          "base_uri": "https://localhost:8080/"
        },
        "id": "Qe-zBn59QmPs",
        "outputId": "cfff5e82-3af7-48aa-ab22-ca8f92f55fe7"
      },
      "execution_count": 2,
      "outputs": [
        {
          "output_type": "stream",
          "name": "stdout",
          "text": [
            "/content/drive/MyDrive/kaggle_study/sign_Languague\n"
          ]
        }
      ]
    },
    {
      "cell_type": "code",
      "source": [
        "import numpy as np\n",
        "import pandas as pd\n",
        "import tensorflow as tf\n",
        "import matplotlib.pyplot as plt\n",
        "import seaborn as sns\n",
        "import warnings\n",
        "import PIL\n",
        "from tqdm.notebook import tqdm\n",
        "\n",
        "from glob import glob\n",
        "from google.colab import drive"
      ],
      "metadata": {
        "id": "buX4LVnLKPrz"
      },
      "execution_count": 3,
      "outputs": []
    },
    {
      "cell_type": "code",
      "source": [
        "agumeted_train = np.load('agumeted_train.npy')\n",
        "agumeted_val = np.load('agumeted_val.npy')\n",
        "agumeted_train_y = np.load('agumeted_train_y.npy')\n",
        "agumeted_val_y = np.load('agumeted_val_y.npy')\n",
        "X_test = np.load(\"X_test.npy\")\n",
        "submission = pd.read_csv('data/sample_submission.csv')"
      ],
      "metadata": {
        "id": "fcDojH8NKQOS"
      },
      "execution_count": 4,
      "outputs": []
    },
    {
      "cell_type": "code",
      "source": [
        "from tensorflow.keras import layers\n",
        "\n",
        "IMG_SIZE = 128\n",
        "\n",
        "data_augmentation = tf.keras.Sequential([\n",
        "  layers.experimental.preprocessing.Resizing(IMG_SIZE, IMG_SIZE), \n",
        "  layers.experimental.preprocessing.Rescaling(1./255),\n",
        "  layers.experimental.preprocessing.RandomFlip(\"horizontal\"),\n",
        "  layers.experimental.preprocessing.RandomRotation(0.2),\n",
        "  layers.experimental.preprocessing.RandomZoom(0.3),\n",
        "  # layers.Normalization(axis=-1, mean=None, variance=None)\n",
        "])\n",
        "\n",
        "resize_and_rescale = tf.keras.Sequential([\n",
        "  layers.experimental.preprocessing.Resizing(IMG_SIZE, IMG_SIZE),\n",
        "  layers.experimental.preprocessing.Rescaling(1./255),\n",
        "  # layers.Normalization(axis=-1, mean=None, variance=None)\n",
        "])"
      ],
      "metadata": {
        "id": "dZ2l-hzULHoe"
      },
      "execution_count": 5,
      "outputs": []
    },
    {
      "cell_type": "code",
      "source": [
        "from tensorflow.keras.applications import VGG16\n",
        "\n",
        "vgg_base = VGG16(weights=None, include_top = False, input_shape=(128,128,3))"
      ],
      "metadata": {
        "id": "z44IPmuaGenZ"
      },
      "execution_count": 8,
      "outputs": []
    },
    {
      "cell_type": "code",
      "source": [
        "from tensorflow.keras.models import Sequential, Model\n",
        "from tensorflow.keras.layers import Dense, Dropout, Flatten, GlobalAveragePooling2D, Conv2D, MaxPool2D, ZeroPadding2D, BatchNormalization, Input, DepthwiseConv2D, Add, LeakyReLU, ReLU\n",
        "from tensorflow.keras.optimizers import Adam, SGD"
      ],
      "metadata": {
        "id": "bo2TXMsvI78B"
      },
      "execution_count": 9,
      "outputs": []
    },
    {
      "cell_type": "code",
      "source": [
        "def build_model():\n",
        "  model = Sequential()\n",
        "  model.add(vgg_base)\n",
        "\n",
        "  model.add(Flatten())\n",
        "\n",
        "  model.add(Dense(128,activation=\"relu\",kernel_initializer='he_normal'))\n",
        "  model.add(BatchNormalization())\n",
        "  model.add(Dropout(0.5))\n",
        "\n",
        "  model.add(Dense(32,activation=\"relu\",kernel_initializer='he_normal'))\n",
        "  model.add(BatchNormalization())\n",
        "  model.add(Dropout(0.5))\n",
        "\n",
        "  model.add(Dense(11, activation=\"softmax\"))\n",
        "\n",
        "  # sgd = SGD(lr=0.01, decay=1e-6, momentum=0.9, nesterov=True)\n",
        "  model.compile(optimizer='adam',\n",
        "              loss='sparse_categorical_crossentropy',\n",
        "              metrics=['accuracy'])\n",
        "  \n",
        "  return model\n",
        "\n",
        "model = build_model()\n",
        "model.summary()"
      ],
      "metadata": {
        "colab": {
          "base_uri": "https://localhost:8080/"
        },
        "id": "ZbRStHxmImGz",
        "outputId": "d9be779a-dfab-4324-fafc-a53e3159d444"
      },
      "execution_count": 10,
      "outputs": [
        {
          "output_type": "stream",
          "name": "stdout",
          "text": [
            "Model: \"sequential_2\"\n",
            "_________________________________________________________________\n",
            " Layer (type)                Output Shape              Param #   \n",
            "=================================================================\n",
            " vgg16 (Functional)          (None, 4, 4, 512)         14714688  \n",
            "                                                                 \n",
            " flatten (Flatten)           (None, 8192)              0         \n",
            "                                                                 \n",
            " dense (Dense)               (None, 128)               1048704   \n",
            "                                                                 \n",
            " batch_normalization (BatchN  (None, 128)              512       \n",
            " ormalization)                                                   \n",
            "                                                                 \n",
            " dropout (Dropout)           (None, 128)               0         \n",
            "                                                                 \n",
            " dense_1 (Dense)             (None, 32)                4128      \n",
            "                                                                 \n",
            " batch_normalization_1 (Batc  (None, 32)               128       \n",
            " hNormalization)                                                 \n",
            "                                                                 \n",
            " dropout_1 (Dropout)         (None, 32)                0         \n",
            "                                                                 \n",
            " dense_2 (Dense)             (None, 11)                363       \n",
            "                                                                 \n",
            "=================================================================\n",
            "Total params: 15,768,523\n",
            "Trainable params: 15,768,203\n",
            "Non-trainable params: 320\n",
            "_________________________________________________________________\n"
          ]
        }
      ]
    },
    {
      "cell_type": "code",
      "source": [
        "from tensorflow.keras.models import Sequential, Model\n",
        "from tensorflow.keras.layers import Dense, Dropout, Flatten, GlobalAveragePooling2D, Conv2D, MaxPool2D, ZeroPadding2D, BatchNormalization, Input, DepthwiseConv2D, Add, LeakyReLU, ReLU\n",
        "from tensorflow.keras.optimizers import Adam, SGD"
      ],
      "metadata": {
        "id": "HEoUsXTPKQQo"
      },
      "execution_count": 7,
      "outputs": []
    },
    {
      "cell_type": "code",
      "source": [
        ""
      ],
      "metadata": {
        "id": "14CT4sGcVT4l"
      },
      "execution_count": null,
      "outputs": []
    },
    {
      "cell_type": "code",
      "source": [
        "# def build_model():\n",
        "\n",
        "#   inputs = tf.keras.layers.Input(shape=(IMG_SIZE,IMG_SIZE,3))\n",
        "\n",
        "#   outputs = Conv2D(32,(3,3),activation=None,padding='same',kernel_initializer='he_normal')(inputs)\n",
        "#   outputs = BatchNormalization()(outputs)\n",
        "#   outputs = ReLU()(outputs)\n",
        "#   outputs = MaxPool2D((2,2))(outputs)\n",
        "\n",
        "#   outputs = Conv2D(64,(3,3),activation=None,padding='same',kernel_initializer='he_normal')(outputs)\n",
        "#   outputs = BatchNormalization()(outputs)\n",
        "#   outputs = ReLU()(outputs)\n",
        "#   outputs = MaxPool2D((2,2))(outputs)\n",
        "\n",
        "#   outputs = Conv2D(128,(3,3),activation=None,padding='same',kernel_initializer='he_normal')(outputs)\n",
        "#   outputs = BatchNormalization()(outputs)\n",
        "#   outputs = ReLU()(outputs)\n",
        "#   outputs = MaxPool2D((2,2))(outputs)\n",
        "\n",
        "#   outputs = Conv2D(256,(3,3),activation=None,padding='same',kernel_initializer='he_normal')(outputs)\n",
        "#   outputs = BatchNormalization()(outputs)\n",
        "#   outputs = ReLU()(outputs)\n",
        "#   outputs = MaxPool2D((2,2))(outputs)\n",
        "\n",
        "#   outputs = Conv2D(512,(3,3),activation=None,padding='same',kernel_initializer='he_normal')(outputs)\n",
        "#   outputs = BatchNormalization()(outputs)\n",
        "#   outputs = ReLU()(outputs)\n",
        "#   outputs = MaxPool2D((2,2))(outputs)\n",
        "\n",
        "#   outputs = GlobalAveragePooling2D()(outputs)\n",
        "#   # outputs = Flatten()(outputs)\n",
        "\n",
        "#   outputs = Dense(128,activation=None,kernel_initializer='he_normal')(outputs)\n",
        "#   outputs = BatchNormalization()(outputs)\n",
        "#   outputs = ReLU()(outputs)\n",
        "#   outputs = Dropout(0.5)(outputs)\n",
        "\n",
        "#   outputs = Dense(32,activation=None,kernel_initializer='he_normal')(outputs)\n",
        "#   outputs = BatchNormalization()(outputs)\n",
        "#   outputs = ReLU()(outputs)\n",
        "#   outputs = Dropout(0.5)(outputs)\n",
        "\n",
        "#   outputs = Dense(11,activation='softmax')(outputs)\n",
        "#   model = Model(inputs=inputs, outputs=outputs)\n",
        "\n",
        "#   # sgd = SGD(lr=0.01, decay=1e-6, momentum=0.9, nesterov=True)\n",
        "#   model.compile(optimizer='adam',\n",
        "#               loss='sparse_categorical_crossentropy',\n",
        "#               metrics=['accuracy'])\n",
        "  \n",
        "#   return model\n",
        "\n",
        "# model = build_model()\n",
        "# model.summary()"
      ],
      "metadata": {
        "colab": {
          "base_uri": "https://localhost:8080/"
        },
        "id": "zLHUewXtKQS-",
        "outputId": "0a6e932d-3762-4973-c613-df56dd218fcd"
      },
      "execution_count": 8,
      "outputs": [
        {
          "output_type": "stream",
          "name": "stdout",
          "text": [
            "Model: \"model\"\n",
            "_________________________________________________________________\n",
            " Layer (type)                Output Shape              Param #   \n",
            "=================================================================\n",
            " input_1 (InputLayer)        [(None, 112, 112, 3)]     0         \n",
            "                                                                 \n",
            " conv2d (Conv2D)             (None, 112, 112, 32)      896       \n",
            "                                                                 \n",
            " batch_normalization (BatchN  (None, 112, 112, 32)     128       \n",
            " ormalization)                                                   \n",
            "                                                                 \n",
            " re_lu (ReLU)                (None, 112, 112, 32)      0         \n",
            "                                                                 \n",
            " max_pooling2d (MaxPooling2D  (None, 56, 56, 32)       0         \n",
            " )                                                               \n",
            "                                                                 \n",
            " conv2d_1 (Conv2D)           (None, 56, 56, 64)        18496     \n",
            "                                                                 \n",
            " batch_normalization_1 (Batc  (None, 56, 56, 64)       256       \n",
            " hNormalization)                                                 \n",
            "                                                                 \n",
            " re_lu_1 (ReLU)              (None, 56, 56, 64)        0         \n",
            "                                                                 \n",
            " max_pooling2d_1 (MaxPooling  (None, 28, 28, 64)       0         \n",
            " 2D)                                                             \n",
            "                                                                 \n",
            " conv2d_2 (Conv2D)           (None, 28, 28, 128)       73856     \n",
            "                                                                 \n",
            " batch_normalization_2 (Batc  (None, 28, 28, 128)      512       \n",
            " hNormalization)                                                 \n",
            "                                                                 \n",
            " re_lu_2 (ReLU)              (None, 28, 28, 128)       0         \n",
            "                                                                 \n",
            " max_pooling2d_2 (MaxPooling  (None, 14, 14, 128)      0         \n",
            " 2D)                                                             \n",
            "                                                                 \n",
            " conv2d_3 (Conv2D)           (None, 14, 14, 256)       295168    \n",
            "                                                                 \n",
            " batch_normalization_3 (Batc  (None, 14, 14, 256)      1024      \n",
            " hNormalization)                                                 \n",
            "                                                                 \n",
            " re_lu_3 (ReLU)              (None, 14, 14, 256)       0         \n",
            "                                                                 \n",
            " max_pooling2d_3 (MaxPooling  (None, 7, 7, 256)        0         \n",
            " 2D)                                                             \n",
            "                                                                 \n",
            " conv2d_4 (Conv2D)           (None, 7, 7, 512)         1180160   \n",
            "                                                                 \n",
            " batch_normalization_4 (Batc  (None, 7, 7, 512)        2048      \n",
            " hNormalization)                                                 \n",
            "                                                                 \n",
            " re_lu_4 (ReLU)              (None, 7, 7, 512)         0         \n",
            "                                                                 \n",
            " max_pooling2d_4 (MaxPooling  (None, 3, 3, 512)        0         \n",
            " 2D)                                                             \n",
            "                                                                 \n",
            " global_average_pooling2d (G  (None, 512)              0         \n",
            " lobalAveragePooling2D)                                          \n",
            "                                                                 \n",
            " dense (Dense)               (None, 128)               65664     \n",
            "                                                                 \n",
            " batch_normalization_5 (Batc  (None, 128)              512       \n",
            " hNormalization)                                                 \n",
            "                                                                 \n",
            " re_lu_5 (ReLU)              (None, 128)               0         \n",
            "                                                                 \n",
            " dropout (Dropout)           (None, 128)               0         \n",
            "                                                                 \n",
            " dense_1 (Dense)             (None, 32)                4128      \n",
            "                                                                 \n",
            " batch_normalization_6 (Batc  (None, 32)               128       \n",
            " hNormalization)                                                 \n",
            "                                                                 \n",
            " re_lu_6 (ReLU)              (None, 32)                0         \n",
            "                                                                 \n",
            " dropout_1 (Dropout)         (None, 32)                0         \n",
            "                                                                 \n",
            " dense_2 (Dense)             (None, 11)                363       \n",
            "                                                                 \n",
            "=================================================================\n",
            "Total params: 1,643,339\n",
            "Trainable params: 1,641,035\n",
            "Non-trainable params: 2,304\n",
            "_________________________________________________________________\n"
          ]
        }
      ]
    },
    {
      "cell_type": "code",
      "source": [
        "filepath= \"saved/weights.best_1.hdf5\"\n",
        "\n",
        "callbacks = [\n",
        "            #  tf.keras.callbacks.EarlyStopping(patience=5, monitor='val_loss'),\n",
        "             tf.keras.callbacks.TensorBoard(log_dir='./logs', histogram_freq=1),\n",
        "             tf.keras.callbacks.ModelCheckpoint(filepath, monitor='val_loss', verbose=1, save_best_only=True, mode='min')\n",
        "             ]\n",
        "\n",
        "             \n",
        "history = model.fit(agumeted_train, agumeted_train_y,\n",
        "          batch_size=32,\n",
        "          epochs=50,\n",
        "          validation_data=(agumeted_val,agumeted_val_y),\n",
        "          callbacks=callbacks\n",
        "          )"
      ],
      "metadata": {
        "colab": {
          "base_uri": "https://localhost:8080/"
        },
        "id": "OPnC8NoEKQVS",
        "outputId": "34ce088c-fe8e-4561-e669-2ee5c5700d5e"
      },
      "execution_count": 11,
      "outputs": [
        {
          "output_type": "stream",
          "name": "stdout",
          "text": [
            "Epoch 1/50\n",
            "558/558 [==============================] - ETA: 0s - loss: 2.7503 - accuracy: 0.1062\n",
            "Epoch 1: val_loss improved from inf to 4.13284, saving model to saved/weights.best_1.hdf5\n",
            "558/558 [==============================] - 61s 85ms/step - loss: 2.7503 - accuracy: 0.1062 - val_loss: 4.1328 - val_accuracy: 0.0872\n",
            "Epoch 2/50\n",
            "557/558 [============================>.] - ETA: 0s - loss: 2.2324 - accuracy: 0.1716\n",
            "Epoch 2: val_loss improved from 4.13284 to 2.68711, saving model to saved/weights.best_1.hdf5\n",
            "558/558 [==============================] - 47s 85ms/step - loss: 2.2324 - accuracy: 0.1716 - val_loss: 2.6871 - val_accuracy: 0.1337\n",
            "Epoch 3/50\n",
            "557/558 [============================>.] - ETA: 0s - loss: 1.8962 - accuracy: 0.2614\n",
            "Epoch 3: val_loss improved from 2.68711 to 1.68019, saving model to saved/weights.best_1.hdf5\n",
            "558/558 [==============================] - 48s 86ms/step - loss: 1.8961 - accuracy: 0.2617 - val_loss: 1.6802 - val_accuracy: 0.3256\n",
            "Epoch 4/50\n",
            "557/558 [============================>.] - ETA: 0s - loss: 1.6297 - accuracy: 0.3533\n",
            "Epoch 4: val_loss improved from 1.68019 to 1.51168, saving model to saved/weights.best_1.hdf5\n",
            "558/558 [==============================] - 47s 84ms/step - loss: 1.6295 - accuracy: 0.3533 - val_loss: 1.5117 - val_accuracy: 0.3721\n",
            "Epoch 5/50\n",
            "557/558 [============================>.] - ETA: 0s - loss: 1.3730 - accuracy: 0.4538\n",
            "Epoch 5: val_loss improved from 1.51168 to 1.25183, saving model to saved/weights.best_1.hdf5\n",
            "558/558 [==============================] - 47s 84ms/step - loss: 1.3733 - accuracy: 0.4537 - val_loss: 1.2518 - val_accuracy: 0.4826\n",
            "Epoch 6/50\n",
            "557/558 [============================>.] - ETA: 0s - loss: 1.1998 - accuracy: 0.5272\n",
            "Epoch 6: val_loss improved from 1.25183 to 1.00737, saving model to saved/weights.best_1.hdf5\n",
            "558/558 [==============================] - 47s 84ms/step - loss: 1.2000 - accuracy: 0.5271 - val_loss: 1.0074 - val_accuracy: 0.7151\n",
            "Epoch 7/50\n",
            "557/558 [============================>.] - ETA: 0s - loss: 1.0558 - accuracy: 0.5921\n",
            "Epoch 7: val_loss improved from 1.00737 to 0.89483, saving model to saved/weights.best_1.hdf5\n",
            "558/558 [==============================] - 48s 86ms/step - loss: 1.0559 - accuracy: 0.5920 - val_loss: 0.8948 - val_accuracy: 0.6802\n",
            "Epoch 8/50\n",
            "557/558 [============================>.] - ETA: 0s - loss: 0.9044 - accuracy: 0.6639\n",
            "Epoch 8: val_loss did not improve from 0.89483\n",
            "558/558 [==============================] - 45s 81ms/step - loss: 0.9041 - accuracy: 0.6639 - val_loss: 1.2306 - val_accuracy: 0.6105\n",
            "Epoch 9/50\n",
            "557/558 [============================>.] - ETA: 0s - loss: 0.7591 - accuracy: 0.7347\n",
            "Epoch 9: val_loss improved from 0.89483 to 0.78359, saving model to saved/weights.best_1.hdf5\n",
            "558/558 [==============================] - 48s 86ms/step - loss: 0.7588 - accuracy: 0.7349 - val_loss: 0.7836 - val_accuracy: 0.7849\n",
            "Epoch 10/50\n",
            "557/558 [============================>.] - ETA: 0s - loss: 0.6272 - accuracy: 0.7896\n",
            "Epoch 10: val_loss improved from 0.78359 to 0.56141, saving model to saved/weights.best_1.hdf5\n",
            "558/558 [==============================] - 48s 85ms/step - loss: 0.6270 - accuracy: 0.7896 - val_loss: 0.5614 - val_accuracy: 0.8488\n",
            "Epoch 11/50\n",
            "557/558 [============================>.] - ETA: 0s - loss: 0.5205 - accuracy: 0.8295\n",
            "Epoch 11: val_loss improved from 0.56141 to 0.51668, saving model to saved/weights.best_1.hdf5\n",
            "558/558 [==============================] - 47s 84ms/step - loss: 0.5203 - accuracy: 0.8296 - val_loss: 0.5167 - val_accuracy: 0.8895\n",
            "Epoch 12/50\n",
            "557/558 [============================>.] - ETA: 0s - loss: 0.4241 - accuracy: 0.8614\n",
            "Epoch 12: val_loss did not improve from 0.51668\n",
            "558/558 [==============================] - 45s 81ms/step - loss: 0.4240 - accuracy: 0.8615 - val_loss: 0.5309 - val_accuracy: 0.8488\n",
            "Epoch 13/50\n",
            "557/558 [============================>.] - ETA: 0s - loss: 0.3770 - accuracy: 0.8830\n",
            "Epoch 13: val_loss improved from 0.51668 to 0.46469, saving model to saved/weights.best_1.hdf5\n",
            "558/558 [==============================] - 47s 84ms/step - loss: 0.3769 - accuracy: 0.8830 - val_loss: 0.4647 - val_accuracy: 0.8779\n",
            "Epoch 14/50\n",
            "557/558 [============================>.] - ETA: 0s - loss: 0.2716 - accuracy: 0.9174\n",
            "Epoch 14: val_loss did not improve from 0.46469\n",
            "558/558 [==============================] - 45s 81ms/step - loss: 0.2716 - accuracy: 0.9173 - val_loss: 0.5402 - val_accuracy: 0.8895\n",
            "Epoch 15/50\n",
            "557/558 [============================>.] - ETA: 0s - loss: 0.2399 - accuracy: 0.9265\n",
            "Epoch 15: val_loss did not improve from 0.46469\n",
            "558/558 [==============================] - 45s 81ms/step - loss: 0.2399 - accuracy: 0.9265 - val_loss: 0.6684 - val_accuracy: 0.8953\n",
            "Epoch 16/50\n",
            "557/558 [============================>.] - ETA: 0s - loss: 0.2370 - accuracy: 0.9283\n",
            "Epoch 16: val_loss did not improve from 0.46469\n",
            "558/558 [==============================] - 45s 81ms/step - loss: 0.2369 - accuracy: 0.9283 - val_loss: 0.6331 - val_accuracy: 0.8605\n",
            "Epoch 17/50\n",
            "557/558 [============================>.] - ETA: 0s - loss: 0.2069 - accuracy: 0.9391\n",
            "Epoch 17: val_loss did not improve from 0.46469\n",
            "558/558 [==============================] - 45s 81ms/step - loss: 0.2069 - accuracy: 0.9391 - val_loss: 0.5655 - val_accuracy: 0.8953\n",
            "Epoch 18/50\n",
            "557/558 [============================>.] - ETA: 0s - loss: 0.1707 - accuracy: 0.9493\n",
            "Epoch 18: val_loss did not improve from 0.46469\n",
            "558/558 [==============================] - 45s 81ms/step - loss: 0.1714 - accuracy: 0.9492 - val_loss: 0.5921 - val_accuracy: 0.8895\n",
            "Epoch 19/50\n",
            "557/558 [============================>.] - ETA: 0s - loss: 0.1631 - accuracy: 0.9535\n",
            "Epoch 19: val_loss did not improve from 0.46469\n",
            "558/558 [==============================] - 45s 81ms/step - loss: 0.1631 - accuracy: 0.9535 - val_loss: 0.6772 - val_accuracy: 0.9070\n",
            "Epoch 20/50\n",
            "557/558 [============================>.] - ETA: 0s - loss: 0.1455 - accuracy: 0.9579\n",
            "Epoch 20: val_loss did not improve from 0.46469\n",
            "558/558 [==============================] - 45s 81ms/step - loss: 0.1459 - accuracy: 0.9578 - val_loss: 0.6632 - val_accuracy: 0.8953\n",
            "Epoch 21/50\n",
            "557/558 [============================>.] - ETA: 0s - loss: 0.1320 - accuracy: 0.9615\n",
            "Epoch 21: val_loss did not improve from 0.46469\n",
            "558/558 [==============================] - 45s 81ms/step - loss: 0.1320 - accuracy: 0.9614 - val_loss: 0.6859 - val_accuracy: 0.9070\n",
            "Epoch 22/50\n",
            "557/558 [============================>.] - ETA: 0s - loss: 0.1203 - accuracy: 0.9652\n",
            "Epoch 22: val_loss did not improve from 0.46469\n",
            "558/558 [==============================] - 45s 81ms/step - loss: 0.1205 - accuracy: 0.9652 - val_loss: 0.5657 - val_accuracy: 0.8953\n",
            "Epoch 23/50\n",
            "557/558 [============================>.] - ETA: 0s - loss: 0.1240 - accuracy: 0.9636\n",
            "Epoch 23: val_loss did not improve from 0.46469\n",
            "558/558 [==============================] - 45s 81ms/step - loss: 0.1239 - accuracy: 0.9637 - val_loss: 0.6174 - val_accuracy: 0.9070\n",
            "Epoch 24/50\n",
            "557/558 [============================>.] - ETA: 0s - loss: 0.0924 - accuracy: 0.9750\n",
            "Epoch 24: val_loss did not improve from 0.46469\n",
            "558/558 [==============================] - 45s 81ms/step - loss: 0.0924 - accuracy: 0.9750 - val_loss: 0.7049 - val_accuracy: 0.9244\n",
            "Epoch 25/50\n",
            "557/558 [============================>.] - ETA: 0s - loss: 0.1076 - accuracy: 0.9692\n",
            "Epoch 25: val_loss did not improve from 0.46469\n",
            "558/558 [==============================] - 45s 81ms/step - loss: 0.1078 - accuracy: 0.9692 - val_loss: 0.4853 - val_accuracy: 0.9244\n",
            "Epoch 26/50\n",
            "557/558 [============================>.] - ETA: 0s - loss: 0.1132 - accuracy: 0.9689\n",
            "Epoch 26: val_loss did not improve from 0.46469\n",
            "558/558 [==============================] - 45s 81ms/step - loss: 0.1133 - accuracy: 0.9689 - val_loss: 0.5274 - val_accuracy: 0.9070\n",
            "Epoch 27/50\n",
            "557/558 [============================>.] - ETA: 0s - loss: 0.0856 - accuracy: 0.9754\n",
            "Epoch 27: val_loss did not improve from 0.46469\n",
            "558/558 [==============================] - 45s 81ms/step - loss: 0.0856 - accuracy: 0.9754 - val_loss: 0.5423 - val_accuracy: 0.8953\n",
            "Epoch 28/50\n",
            "557/558 [============================>.] - ETA: 0s - loss: 0.0699 - accuracy: 0.9796\n",
            "Epoch 28: val_loss did not improve from 0.46469\n",
            "558/558 [==============================] - 45s 81ms/step - loss: 0.0699 - accuracy: 0.9796 - val_loss: 0.7877 - val_accuracy: 0.9012\n",
            "Epoch 29/50\n",
            "557/558 [============================>.] - ETA: 0s - loss: 0.0909 - accuracy: 0.9744\n",
            "Epoch 29: val_loss did not improve from 0.46469\n",
            "558/558 [==============================] - 45s 81ms/step - loss: 0.0910 - accuracy: 0.9743 - val_loss: 0.6645 - val_accuracy: 0.9186\n",
            "Epoch 30/50\n",
            "557/558 [============================>.] - ETA: 0s - loss: 0.0766 - accuracy: 0.9788\n",
            "Epoch 30: val_loss did not improve from 0.46469\n",
            "558/558 [==============================] - 45s 81ms/step - loss: 0.0766 - accuracy: 0.9788 - val_loss: 0.6765 - val_accuracy: 0.9244\n",
            "Epoch 31/50\n",
            "557/558 [============================>.] - ETA: 0s - loss: 0.0670 - accuracy: 0.9815\n",
            "Epoch 31: val_loss did not improve from 0.46469\n",
            "558/558 [==============================] - 45s 81ms/step - loss: 0.0669 - accuracy: 0.9816 - val_loss: 96330.3750 - val_accuracy: 0.9128\n",
            "Epoch 32/50\n",
            "557/558 [============================>.] - ETA: 0s - loss: 0.1041 - accuracy: 0.9722\n",
            "Epoch 32: val_loss did not improve from 0.46469\n",
            "558/558 [==============================] - 45s 81ms/step - loss: 0.1041 - accuracy: 0.9722 - val_loss: 0.6266 - val_accuracy: 0.9070\n",
            "Epoch 33/50\n",
            "557/558 [============================>.] - ETA: 0s - loss: 0.0633 - accuracy: 0.9833\n",
            "Epoch 33: val_loss did not improve from 0.46469\n",
            "558/558 [==============================] - 45s 81ms/step - loss: 0.0633 - accuracy: 0.9833 - val_loss: 0.5995 - val_accuracy: 0.9128\n",
            "Epoch 34/50\n",
            "557/558 [============================>.] - ETA: 0s - loss: 0.0536 - accuracy: 0.9852\n",
            "Epoch 34: val_loss did not improve from 0.46469\n",
            "558/558 [==============================] - 45s 81ms/step - loss: 0.0537 - accuracy: 0.9853 - val_loss: 0.6918 - val_accuracy: 0.9186\n",
            "Epoch 35/50\n",
            "557/558 [============================>.] - ETA: 0s - loss: 0.0759 - accuracy: 0.9797\n",
            "Epoch 35: val_loss did not improve from 0.46469\n",
            "558/558 [==============================] - 45s 81ms/step - loss: 0.0761 - accuracy: 0.9796 - val_loss: 0.5401 - val_accuracy: 0.9186\n",
            "Epoch 36/50\n",
            "557/558 [============================>.] - ETA: 0s - loss: 0.0614 - accuracy: 0.9830\n",
            "Epoch 36: val_loss did not improve from 0.46469\n",
            "558/558 [==============================] - 45s 81ms/step - loss: 0.0619 - accuracy: 0.9829 - val_loss: 0.5671 - val_accuracy: 0.9128\n",
            "Epoch 37/50\n",
            "557/558 [============================>.] - ETA: 0s - loss: 0.0348 - accuracy: 0.9911\n",
            "Epoch 37: val_loss did not improve from 0.46469\n",
            "558/558 [==============================] - 45s 81ms/step - loss: 0.0348 - accuracy: 0.9911 - val_loss: 44911.6328 - val_accuracy: 0.8953\n",
            "Epoch 38/50\n",
            "557/558 [============================>.] - ETA: 0s - loss: 0.0800 - accuracy: 0.9806\n",
            "Epoch 38: val_loss did not improve from 0.46469\n",
            "558/558 [==============================] - 45s 81ms/step - loss: 0.0802 - accuracy: 0.9805 - val_loss: 0.9575 - val_accuracy: 0.9012\n",
            "Epoch 39/50\n",
            "557/558 [============================>.] - ETA: 0s - loss: 0.0596 - accuracy: 0.9849\n",
            "Epoch 39: val_loss did not improve from 0.46469\n",
            "558/558 [==============================] - 45s 81ms/step - loss: 0.0597 - accuracy: 0.9849 - val_loss: 0.7714 - val_accuracy: 0.9012\n",
            "Epoch 40/50\n",
            "557/558 [============================>.] - ETA: 0s - loss: 0.0394 - accuracy: 0.9891\n",
            "Epoch 40: val_loss did not improve from 0.46469\n",
            "558/558 [==============================] - 45s 81ms/step - loss: 0.0395 - accuracy: 0.9891 - val_loss: 202161.9062 - val_accuracy: 0.8837\n",
            "Epoch 41/50\n",
            "557/558 [============================>.] - ETA: 0s - loss: 0.0600 - accuracy: 0.9832\n",
            "Epoch 41: val_loss did not improve from 0.46469\n",
            "558/558 [==============================] - 45s 81ms/step - loss: 0.0605 - accuracy: 0.9831 - val_loss: 0.6732 - val_accuracy: 0.9244\n",
            "Epoch 42/50\n",
            "557/558 [============================>.] - ETA: 0s - loss: 0.0605 - accuracy: 0.9833\n",
            "Epoch 42: val_loss did not improve from 0.46469\n",
            "558/558 [==============================] - 45s 81ms/step - loss: 0.0605 - accuracy: 0.9833 - val_loss: 0.7203 - val_accuracy: 0.9186\n",
            "Epoch 43/50\n",
            "557/558 [============================>.] - ETA: 0s - loss: 0.0602 - accuracy: 0.9845\n",
            "Epoch 43: val_loss did not improve from 0.46469\n",
            "558/558 [==============================] - 45s 81ms/step - loss: 0.0603 - accuracy: 0.9844 - val_loss: 0.7232 - val_accuracy: 0.9302\n",
            "Epoch 44/50\n",
            "557/558 [============================>.] - ETA: 0s - loss: 0.0442 - accuracy: 0.9889\n",
            "Epoch 44: val_loss did not improve from 0.46469\n",
            "558/558 [==============================] - 45s 81ms/step - loss: 0.0442 - accuracy: 0.9890 - val_loss: 0.7624 - val_accuracy: 0.9012\n",
            "Epoch 45/50\n",
            "557/558 [============================>.] - ETA: 0s - loss: 0.0283 - accuracy: 0.9926\n",
            "Epoch 45: val_loss did not improve from 0.46469\n",
            "558/558 [==============================] - 45s 81ms/step - loss: 0.0285 - accuracy: 0.9925 - val_loss: 1.0103 - val_accuracy: 0.8837\n",
            "Epoch 46/50\n",
            "557/558 [============================>.] - ETA: 0s - loss: 0.0666 - accuracy: 0.9822\n",
            "Epoch 46: val_loss did not improve from 0.46469\n",
            "558/558 [==============================] - 46s 82ms/step - loss: 0.0666 - accuracy: 0.9822 - val_loss: 0.7257 - val_accuracy: 0.9186\n",
            "Epoch 47/50\n",
            "557/558 [============================>.] - ETA: 0s - loss: 0.0349 - accuracy: 0.9908\n",
            "Epoch 47: val_loss did not improve from 0.46469\n",
            "558/558 [==============================] - 46s 82ms/step - loss: 0.0349 - accuracy: 0.9907 - val_loss: 0.6519 - val_accuracy: 0.9186\n",
            "Epoch 48/50\n",
            "557/558 [============================>.] - ETA: 0s - loss: 0.0380 - accuracy: 0.9897\n",
            "Epoch 48: val_loss did not improve from 0.46469\n",
            "558/558 [==============================] - 46s 82ms/step - loss: 0.0388 - accuracy: 0.9896 - val_loss: 0.6753 - val_accuracy: 0.9186\n",
            "Epoch 49/50\n",
            "557/558 [============================>.] - ETA: 0s - loss: 0.0702 - accuracy: 0.9837\n",
            "Epoch 49: val_loss did not improve from 0.46469\n",
            "558/558 [==============================] - 46s 82ms/step - loss: 0.0701 - accuracy: 0.9837 - val_loss: 0.7973 - val_accuracy: 0.9186\n",
            "Epoch 50/50\n",
            "557/558 [============================>.] - ETA: 0s - loss: 0.0290 - accuracy: 0.9915\n",
            "Epoch 50: val_loss did not improve from 0.46469\n",
            "558/558 [==============================] - 46s 82ms/step - loss: 0.0292 - accuracy: 0.9914 - val_loss: 0.7074 - val_accuracy: 0.9186\n"
          ]
        }
      ]
    },
    {
      "cell_type": "code",
      "source": [
        "history_dict = history.history\n",
        "loss = history_dict['loss']\n",
        "val_loss = history_dict['val_loss']\n",
        "\n",
        "epochs = range(1, len(loss)+1)\n",
        "fig = plt.figure(figsize=(12,5))\n",
        "\n",
        "ax1 = fig.add_subplot(1, 2, 1)\n",
        "ax1.plot(epochs, loss, color='blue', label='train_loss')\n",
        "ax1.plot(epochs, val_loss, color='red', label='val_loss')\n",
        "ax1.set_title('Train and Validation Loss')\n",
        "ax1.set_xlabel('Epochs')\n",
        "ax1.set_ylabel('Loss')\n",
        "ax1.grid()\n",
        "ax1.legend()\n",
        "\n",
        "accuracy = history_dict['accuracy']\n",
        "val_accuracy = history_dict['val_accuracy']\n",
        "\n",
        "ax2 = fig.add_subplot(1, 2, 2)\n",
        "ax2.plot(epochs, accuracy, color='blue', label='accuracy')\n",
        "ax2.plot(epochs, val_accuracy, color='red', label='val_accuracy')\n",
        "ax2.set_title('Train and Validation Accuracy')\n",
        "ax2.set_xlabel('Epochs')\n",
        "ax2.set_ylabel('Accuracy')\n",
        "ax2.grid()\n",
        "ax2.legend()\n",
        "\n",
        "plt.show()"
      ],
      "metadata": {
        "colab": {
          "base_uri": "https://localhost:8080/",
          "height": 350
        },
        "id": "UgVkqdi8KQXo",
        "outputId": "ae6874d1-9b42-4885-b22f-78edbbde27de"
      },
      "execution_count": 12,
      "outputs": [
        {
          "output_type": "display_data",
          "data": {
            "text/plain": [
              "<Figure size 864x360 with 2 Axes>"
            ],
            "image/png": "[encoded data removed]"
          },
          "metadata": {
            "needs_background": "light"
          }
        }
      ]
    },
    {
      "cell_type": "code",
      "source": [
        "model.load_weights(\"saved/weights.best_1.hdf5\")\n",
        "model.evaluate(agumeted_val, agumeted_val_y)"
      ],
      "metadata": {
        "colab": {
          "base_uri": "https://localhost:8080/"
        },
        "id": "mcMS_pAGKQaC",
        "outputId": "b54d165b-bc38-4079-b9bf-75e8be83939c"
      },
      "execution_count": 13,
      "outputs": [
        {
          "output_type": "stream",
          "name": "stdout",
          "text": [
            "6/6 [==============================] - 0s 28ms/step - loss: 0.4647 - accuracy: 0.8779\n"
          ]
        },
        {
          "output_type": "execute_result",
          "data": {
            "text/plain": [
              "[0.4646913409233093, 0.8779069781303406]"
            ]
          },
          "metadata": {},
          "execution_count": 13
        }
      ]
    },
    {
      "cell_type": "code",
      "source": [
        "test_re = resize_and_rescale(X_test)\n",
        "preds = model.predict(test_re)\n",
        "\n",
        "submission['label'] = np.argmax(preds, axis=1)\n",
        "submission['label'][submission['label'] == 10] = '10-1' ## label : 10 -> '10-1'\n",
        "submission['label'][submission['label'] == 0] = '10-2' ## Label : 0 -> '10-2'\n",
        "submission['label'] = submission['label'].apply(lambda x : str(x)) ## Dtype : int -> object\n",
        "\n",
        "submission.to_csv('./keras_VGG16_epoch50.csv', index=False) "
      ],
      "metadata": {
        "colab": {
          "base_uri": "https://localhost:8080/"
        },
        "id": "8UG4bPFXKQcc",
        "outputId": "70c45a84-411a-47e6-e384-e1716cd9a12c"
      },
      "execution_count": 14,
      "outputs": [
        {
          "output_type": "stream",
          "name": "stderr",
          "text": [
            "/usr/local/lib/python3.7/dist-packages/ipykernel_launcher.py:5: SettingWithCopyWarning: \n",
            "A value is trying to be set on a copy of a slice from a DataFrame\n",
            "\n",
            "See the caveats in the documentation: https://pandas.pydata.org/pandas-docs/stable/user_guide/indexing.html#returning-a-view-versus-a-copy\n",
            "  \"\"\"\n"
          ]
        }
      ]
    },
    {
      "cell_type": "code",
      "source": [
        ""
      ],
      "metadata": {
        "id": "rkIfd-LHPxrB"
      },
      "execution_count": null,
      "outputs": []
    }
  ]
}